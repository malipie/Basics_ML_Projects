{
 "cells": [
  {
   "cell_type": "code",
   "execution_count": 1,
   "id": "b18bb2b9",
   "metadata": {},
   "outputs": [],
   "source": [
    "import numpy as np"
   ]
  },
  {
   "cell_type": "code",
   "execution_count": 2,
   "id": "011c632b",
   "metadata": {},
   "outputs": [
    {
     "name": "stdout",
     "output_type": "stream",
     "text": [
      "Years of work: [1 2 3 4 5 6]\n",
      "Earnings: [3000 3250 3500 3750 4000 4250]\n",
      "Number of trials: 6\n"
     ]
    }
   ],
   "source": [
    "X1 = np.array([1,2,3,4,5,6])\n",
    "Y = np.array([3000, 3250, 3500, 3750, 4000, 4250])\n",
    "m = len(X1)\n",
    "\n",
    "print(f\"Years of work: {X1}\")\n",
    "print(f\"Earnings: {Y}\")\n",
    "print(f\"Number of trials: {m}\")\n"
   ]
  },
  {
   "cell_type": "code",
   "execution_count": 13,
   "id": "25f7df00",
   "metadata": {},
   "outputs": [
    {
     "data": {
      "text/plain": [
       "(6, 1)"
      ]
     },
     "execution_count": 13,
     "metadata": {},
     "output_type": "execute_result"
    }
   ],
   "source": [
    "X1 = X1.reshape(m, 1)\n",
    "X1.shape"
   ]
  },
  {
   "cell_type": "code",
   "execution_count": 15,
   "id": "4eb89cfd",
   "metadata": {},
   "outputs": [
    {
     "name": "stdout",
     "output_type": "stream",
     "text": [
      "[[1.]\n",
      " [1.]\n",
      " [1.]\n",
      " [1.]\n",
      " [1.]\n",
      " [1.]]\n"
     ]
    },
    {
     "data": {
      "text/plain": [
       "(6, 1)"
      ]
     },
     "execution_count": 15,
     "metadata": {},
     "output_type": "execute_result"
    }
   ],
   "source": [
    "bias = np.ones((m,1))\n",
    "print(bias)\n",
    "bias.shape"
   ]
  },
  {
   "cell_type": "code",
   "execution_count": 17,
   "id": "6ce2e216",
   "metadata": {},
   "outputs": [
    {
     "name": "stdout",
     "output_type": "stream",
     "text": [
      "[[1. 1.]\n",
      " [1. 2.]\n",
      " [1. 3.]\n",
      " [1. 4.]\n",
      " [1. 5.]\n",
      " [1. 6.]]\n"
     ]
    },
    {
     "data": {
      "text/plain": [
       "(6, 2)"
      ]
     },
     "execution_count": 17,
     "metadata": {},
     "output_type": "execute_result"
    }
   ],
   "source": [
    "X = np.append(bias, X1, axis=1)\n",
    "print(X)\n",
    "X.shape"
   ]
  },
  {
   "cell_type": "code",
   "execution_count": 18,
   "id": "448e990a",
   "metadata": {},
   "outputs": [
    {
     "data": {
      "text/plain": [
       "array([[ 6., 21.],\n",
       "       [21., 91.]])"
      ]
     },
     "execution_count": 18,
     "metadata": {},
     "output_type": "execute_result"
    }
   ],
   "source": [
    "np.dot(X.T, X)"
   ]
  },
  {
   "cell_type": "code",
   "execution_count": 19,
   "id": "59685471",
   "metadata": {},
   "outputs": [
    {
     "data": {
      "text/plain": [
       "array([[ 0.86666667, -0.2       ],\n",
       "       [-0.2       ,  0.05714286]])"
      ]
     },
     "execution_count": 19,
     "metadata": {},
     "output_type": "execute_result"
    }
   ],
   "source": [
    "L = np.linalg.inv(np.dot(X.T, X))\n",
    "L"
   ]
  },
  {
   "cell_type": "code",
   "execution_count": 20,
   "id": "1efd25e1",
   "metadata": {},
   "outputs": [
    {
     "data": {
      "text/plain": [
       "array([21750., 80500.])"
      ]
     },
     "execution_count": 20,
     "metadata": {},
     "output_type": "execute_result"
    }
   ],
   "source": [
    "P = np.dot(X.T, Y)\n",
    "P"
   ]
  },
  {
   "cell_type": "code",
   "execution_count": 25,
   "id": "d8886b05",
   "metadata": {},
   "outputs": [
    {
     "name": "stdout",
     "output_type": "stream",
     "text": [
      "\n",
      "-------------------------\n",
      "Linear function:\n",
      "y = 250.00x + 2750.00\n",
      "-------------------------\n"
     ]
    }
   ],
   "source": [
    "model_parameters = np.dot(L, P)\n",
    "\n",
    "b = model_parameters[0] \n",
    "w1 = model_parameters[1] \n",
    "\n",
    "print(\"\\n-------------------------\")\n",
    "print(\"Linear function:\")\n",
    "print(f\"y = {w1:.2f}x + {b:.2f}\")\n",
    "print(\"-------------------------\")"
   ]
  },
  {
   "cell_type": "code",
   "execution_count": 26,
   "id": "14ae213c",
   "metadata": {},
   "outputs": [
    {
     "name": "stdout",
     "output_type": "stream",
     "text": [
      "2750.0\n",
      "250.0\n"
     ]
    }
   ],
   "source": [
    "from sklearn.linear_model import LinearRegression\n",
    "\n",
    "regression = LinearRegression()\n",
    "regression.fit(X1, Y)\n",
    "\n",
    "print(regression.intercept_)\n",
    "print(regression.coef_[0])"
   ]
  },
  {
   "cell_type": "code",
   "execution_count": null,
   "id": "7f07f4f0",
   "metadata": {},
   "outputs": [],
   "source": []
  }
 ],
 "metadata": {
  "kernelspec": {
   "display_name": "base",
   "language": "python",
   "name": "python3"
  },
  "language_info": {
   "codemirror_mode": {
    "name": "ipython",
    "version": 3
   },
   "file_extension": ".py",
   "mimetype": "text/x-python",
   "name": "python",
   "nbconvert_exporter": "python",
   "pygments_lexer": "ipython3",
   "version": "3.12.2"
  }
 },
 "nbformat": 4,
 "nbformat_minor": 5
}
